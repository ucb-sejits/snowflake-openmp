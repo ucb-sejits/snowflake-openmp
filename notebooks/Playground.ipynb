{
 "cells": [
  {
   "cell_type": "code",
   "execution_count": 1,
   "metadata": {
    "collapsed": true
   },
   "outputs": [],
   "source": [
    "from snowflake.nodes import *\n",
    "from snowflake_openmp.compiler import *\n",
    "import numpy as np"
   ]
  },
  {
   "cell_type": "code",
   "execution_count": 2,
   "metadata": {
    "collapsed": true
   },
   "outputs": [],
   "source": [
    "iteration_space = RectangularDomain(((1, -1, 2),(1, -1, 2))) + RectangularDomain(((2, -1, 2), (2, -1, 2)))\n",
    "iteration_space = RectangularDomain(((1, -1, 2), (1, -1, 2)))"
   ]
  },
  {
   "cell_type": "code",
   "execution_count": 3,
   "metadata": {
    "collapsed": false
   },
   "outputs": [],
   "source": [
    "sc = StencilComponent('input', WeightArray(\n",
    "        [\n",
    "            [0.0625, 0.125, 0.0625],\n",
    "            [0.125, 0.25, 0.125],\n",
    "            [0.0625, 0.125, 0.0625]\n",
    "        ]\n",
    "        )\n",
    "    )"
   ]
  },
  {
   "cell_type": "code",
   "execution_count": 4,
   "metadata": {
    "collapsed": true
   },
   "outputs": [],
   "source": [
    "stencil = Stencil(sc, 'input', iteration_space)"
   ]
  },
  {
   "cell_type": "code",
   "execution_count": 5,
   "metadata": {
    "collapsed": true
   },
   "outputs": [],
   "source": [
    "ompcompiler = OpenMPCompiler()"
   ]
  },
  {
   "cell_type": "code",
   "execution_count": 6,
   "metadata": {
    "collapsed": false
   },
   "outputs": [],
   "source": [
    "ompkern = ompcompiler.compile(stencil)"
   ]
  },
  {
   "cell_type": "code",
   "execution_count": 7,
   "metadata": {
    "collapsed": true
   },
   "outputs": [],
   "source": [
    "data = np.zeros((10, 10), dtype=np.float64)\n",
    "data[1:-1, 1:-1] = np.arange(64).reshape((8, 8))"
   ]
  },
  {
   "cell_type": "code",
   "execution_count": 8,
   "metadata": {
    "collapsed": true
   },
   "outputs": [],
   "source": [
    "out = np.zeros_like(data)"
   ]
  },
  {
   "cell_type": "code",
   "execution_count": 9,
   "metadata": {
    "collapsed": false
   },
   "outputs": [],
   "source": [
    "ompkern(data)"
   ]
  },
  {
   "cell_type": "code",
   "execution_count": 11,
   "metadata": {
    "collapsed": false
   },
   "outputs": [
    {
     "data": {
      "text/plain": [
       "array([[  0.    ,   0.    ,   0.    ,   0.    ,   0.    ,   0.    ,\n",
       "          0.    ,   0.    ,   0.    ,   0.    ],\n",
       "       [  0.    ,   1.6875,   1.    ,   3.5   ,   3.    ,   5.    ,\n",
       "          5.    ,   6.5   ,   7.    ,   0.    ],\n",
       "       [  0.    ,   8.    ,   9.    ,  10.    ,  11.    ,  12.    ,\n",
       "         13.    ,  14.    ,  15.    ,   0.    ],\n",
       "       [  0.    ,  12.25  ,  17.    ,  18.    ,  19.    ,  20.    ,\n",
       "         21.    ,  22.    ,  23.    ,   0.    ],\n",
       "       [  0.    ,  24.    ,  25.    ,  26.    ,  27.    ,  28.    ,\n",
       "         29.    ,  30.    ,  31.    ,   0.    ],\n",
       "       [  0.    ,  24.25  ,  33.    ,  34.    ,  35.    ,  36.    ,\n",
       "         37.    ,  38.    ,  39.    ,   0.    ],\n",
       "       [  0.    ,  40.    ,  41.    ,  42.    ,  43.    ,  44.    ,\n",
       "         45.    ,  46.    ,  47.    ,   0.    ],\n",
       "       [  0.    ,  36.25  ,  49.    ,  50.    ,  51.    ,  52.    ,\n",
       "         53.    ,  54.    ,  55.    ,   0.    ],\n",
       "       [  0.    ,  56.    ,  57.    ,  58.    ,  59.    ,  60.    ,\n",
       "         61.    ,  62.    ,  63.    ,   0.    ],\n",
       "       [  0.    ,   0.    ,   0.    ,   0.    ,   0.    ,   0.    ,\n",
       "          0.    ,   0.    ,   0.    ,   0.    ]])"
      ]
     },
     "execution_count": 11,
     "metadata": {},
     "output_type": "execute_result"
    }
   ],
   "source": [
    "data"
   ]
  },
  {
   "cell_type": "code",
   "execution_count": null,
   "metadata": {
    "collapsed": true
   },
   "outputs": [],
   "source": []
  }
 ],
 "metadata": {
  "kernelspec": {
   "display_name": "Python 2",
   "language": "python",
   "name": "python2"
  },
  "language_info": {
   "codemirror_mode": {
    "name": "ipython",
    "version": 2
   },
   "file_extension": ".py",
   "mimetype": "text/x-python",
   "name": "python",
   "nbconvert_exporter": "python",
   "pygments_lexer": "ipython2",
   "version": "2.7.10"
  }
 },
 "nbformat": 4,
 "nbformat_minor": 0
}
