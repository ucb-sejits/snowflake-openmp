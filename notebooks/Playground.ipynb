{
 "cells": [
  {
   "cell_type": "code",
   "execution_count": 1,
   "metadata": {
    "collapsed": false
   },
   "outputs": [
    {
     "name": "stdout",
     "output_type": "stream",
     "text": [
      "ctree looking for relative cache directories named compiled, checking directories under this one\r\n",
      "\r\n"
     ]
    }
   ],
   "source": [
    "from snowflake.nodes import *\n",
    "from snowflake_openmp.compiler import *\n",
    "import numpy as np\n",
    "\n",
    "!ctree -cc"
   ]
  },
  {
   "cell_type": "code",
   "execution_count": 2,
   "metadata": {
    "collapsed": true
   },
   "outputs": [],
   "source": [
    "iteration_space = RectangularDomain(((1, -1, 2),(1, -1, 2))) + RectangularDomain(((2, -1, 2), (2, -1, 2)))\n",
    "iteration_space = RectangularDomain(((1, -1, 2), (1, -1, 2)))"
   ]
  },
  {
   "cell_type": "code",
   "execution_count": 3,
   "metadata": {
    "collapsed": false
   },
   "outputs": [],
   "source": [
    "sc = StencilComponent('input', WeightArray(\n",
    "        [\n",
    "            [0.0625, 0.125, 0.0625],\n",
    "            [0.125, 0.25, 0.125],\n",
    "            [0.0625, 0.125, 0.0625]\n",
    "        ]\n",
    "        )\n",
    "    )"
   ]
  },
  {
   "cell_type": "code",
   "execution_count": 4,
   "metadata": {
    "collapsed": true
   },
   "outputs": [],
   "source": [
    "stencil = Stencil(sc, 'input', iteration_space)"
   ]
  },
  {
   "cell_type": "code",
   "execution_count": 5,
   "metadata": {
    "collapsed": true
   },
   "outputs": [],
   "source": [
    "ompcompiler = OpenMPCompiler()"
   ]
  },
  {
   "cell_type": "code",
   "execution_count": 6,
   "metadata": {
    "collapsed": false
   },
   "outputs": [],
   "source": [
    "ompkern = ompcompiler.compile(stencil)"
   ]
  },
  {
   "cell_type": "code",
   "execution_count": 7,
   "metadata": {
    "collapsed": true
   },
   "outputs": [],
   "source": [
    "data = np.zeros((100, 100), dtype=np.float64)\n",
    "data[1:-1, 1:-1] = np.arange(98*98).reshape((98, 98))"
   ]
  },
  {
   "cell_type": "code",
   "execution_count": 8,
   "metadata": {
    "collapsed": true
   },
   "outputs": [],
   "source": [
    "out = np.zeros_like(data)"
   ]
  },
  {
   "cell_type": "code",
   "execution_count": 9,
   "metadata": {
    "collapsed": false
   },
   "outputs": [
    {
     "name": "stdout",
     "output_type": "stream",
     "text": [
      "analyzing 1\n",
      "done analyzing\n"
     ]
    }
   ],
   "source": [
    "ompkern(data)"
   ]
  },
  {
   "cell_type": "code",
   "execution_count": 10,
   "metadata": {
    "collapsed": false
   },
   "outputs": [
    {
     "data": {
      "text/plain": [
       "array([[  0.00000000e+00,   0.00000000e+00,   0.00000000e+00, ...,\n",
       "          0.00000000e+00,   0.00000000e+00,   0.00000000e+00],\n",
       "       [  0.00000000e+00,   1.85625000e+01,   1.00000000e+00, ...,\n",
       "          9.65000000e+01,   9.70000000e+01,   0.00000000e+00],\n",
       "       [  0.00000000e+00,   9.80000000e+01,   9.90000000e+01, ...,\n",
       "          1.94000000e+02,   1.95000000e+02,   0.00000000e+00],\n",
       "       ..., \n",
       "       [  0.00000000e+00,   7.05625000e+03,   9.40900000e+03, ...,\n",
       "          9.50400000e+03,   9.50500000e+03,   0.00000000e+00],\n",
       "       [  0.00000000e+00,   9.50600000e+03,   9.50700000e+03, ...,\n",
       "          9.60200000e+03,   9.60300000e+03,   0.00000000e+00],\n",
       "       [  0.00000000e+00,   0.00000000e+00,   0.00000000e+00, ...,\n",
       "          0.00000000e+00,   0.00000000e+00,   0.00000000e+00]])"
      ]
     },
     "execution_count": 10,
     "metadata": {},
     "output_type": "execute_result"
    }
   ],
   "source": [
    "data"
   ]
  },
  {
   "cell_type": "code",
   "execution_count": null,
   "metadata": {
    "collapsed": true
   },
   "outputs": [],
   "source": []
  }
 ],
 "metadata": {
  "kernelspec": {
   "display_name": "Python 2",
   "language": "python",
   "name": "python2"
  },
  "language_info": {
   "codemirror_mode": {
    "name": "ipython",
    "version": 2
   },
   "file_extension": ".py",
   "mimetype": "text/x-python",
   "name": "python",
   "nbconvert_exporter": "python",
   "pygments_lexer": "ipython2",
   "version": "2.7.10"
  }
 },
 "nbformat": 4,
 "nbformat_minor": 0
}
